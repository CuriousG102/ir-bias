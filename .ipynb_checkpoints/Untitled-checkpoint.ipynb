{
 "cells": [
  {
   "cell_type": "code",
   "execution_count": 1,
   "metadata": {
    "collapsed": false
   },
   "outputs": [
    {
     "name": "stderr",
     "output_type": "stream",
     "text": [
      "/home/paper2/ir-bias/venv/lib/python3.5/site-packages/gensim/utils.py:1015: UserWarning: Pattern library is not installed, lemmatization won't be available.\n",
      "  warnings.warn(\"Pattern library is not installed, lemmatization won't be available.\")\n"
     ]
    }
   ],
   "source": [
    "from model_data import DataManager\n",
    "from settings import settings\n",
    "from word_count import get_meta_info, HighPerformanceCounter"
   ]
  },
  {
   "cell_type": "code",
   "execution_count": 2,
   "metadata": {
    "collapsed": false
   },
   "outputs": [],
   "source": [
    "# import some handy dandy viz stuff\n",
    "\n",
    "import matplotlib.pyplot as plt\n",
    "import numpy as np\n",
    "import pandas as pd\n",
    "\n",
    "%matplotlib inline"
   ]
  },
  {
   "cell_type": "code",
   "execution_count": null,
   "metadata": {
    "collapsed": false
   },
   "outputs": [],
   "source": [
    "meta_info = get_meta_info()\n",
    "data_manager = DataManager(settings['experiment_temp_path'],\n",
    "                          settings['experiment_save_path'])"
   ]
  },
  {
   "cell_type": "code",
   "execution_count": null,
   "metadata": {
    "collapsed": false
   },
   "outputs": [],
   "source": [
    "source_by_count = sorted(meta_info.items(), \n",
    "                         key=lambda i: sum(i[1]['word_count'].values()),\n",
    "                         reverse=True)\n",
    "source_by_count = [(s, sum(info['word_count'].values())) for s, info in source_by_count]\n",
    "accuracies = [data_manager.get_source_model_accuracy(s)[1] for s, _ in source_by_count]\n",
    "# sample_structure = {\n",
    "#     Source.NYT: {\n",
    "#         'word_count': HighPerformanceCounter('men'=300),\n",
    "#         datetime.datetime(1993, 8, 12): {\n",
    "#             'doc_count': 1,\n",
    "#             'word_count': 300\n",
    "#         }\n",
    "#     }\n",
    "# } "
   ]
  },
  {
   "cell_type": "code",
   "execution_count": null,
   "metadata": {
    "collapsed": true
   },
   "outputs": [],
   "source": [
    "comparative_count = pd.DataFrame({'word_count': [count for s, count in source_by_count],\n",
    "                                  'accuracy': accuracies},\n",
    "                                 index=[s for s, _ in source_by_count])\n",
    "comparative_count.plot(kind='bar')"
   ]
  },
  {
   "cell_type": "code",
   "execution_count": null,
   "metadata": {
    "collapsed": true
   },
   "outputs": [],
   "source": [
    "for source, info in meta_info.items():\n",
    "    print(source)\n",
    "    dates = sorted(info.keys() - 'word_count')\n",
    "    word_counts = [info[d]['word_count'] for d in dates]\n",
    "    doc_counts = [info[d]['doc_count'] for d in dates]\n",
    "    date_counts_df = pd.DataFrame({'word_count': word_counts,\n",
    "                                   'doc_count': doc_counts,},\n",
    "                                  index=dates)\n",
    "    date_counts_df.groupby((date_counts_df.index.month,\n",
    "                            date_counts_df.index.year))\\\n",
    "                  .plot(kind='bar')\n",
    "    plt.show()"
   ]
  },
  {
   "cell_type": "code",
   "execution_count": null,
   "metadata": {
    "collapsed": true
   },
   "outputs": [],
   "source": []
  }
 ],
 "metadata": {
  "kernelspec": {
   "display_name": "Python 3",
   "language": "python",
   "name": "python3"
  },
  "language_info": {
   "codemirror_mode": {
    "name": "ipython",
    "version": 3
   },
   "file_extension": ".py",
   "mimetype": "text/x-python",
   "name": "python",
   "nbconvert_exporter": "python",
   "pygments_lexer": "ipython3",
   "version": "3.5.2"
  }
 },
 "nbformat": 4,
 "nbformat_minor": 1
}
